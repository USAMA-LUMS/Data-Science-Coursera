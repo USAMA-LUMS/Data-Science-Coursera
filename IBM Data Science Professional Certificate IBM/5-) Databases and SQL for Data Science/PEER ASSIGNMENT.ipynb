{
 "cells": [
  {
   "cell_type": "markdown",
   "metadata": {},
   "source": [
    "<a href=\"https://cognitiveclass.ai\"><img src = \"https://ibm.box.com/shared/static/ugcqz6ohbvff804xp84y4kqnvvk3bq1g.png\" width = 300, align = \"center\"></a>\n",
    "\n",
    "<h1 align=center><font size = 5>Assignment: Notebook for Peer Assignment</font></h1>"
   ]
  },
  {
   "cell_type": "markdown",
   "metadata": {},
   "source": [
    "# Introduction\n",
    "\n",
    "Using this Python notebook you will:\n",
    "1. Understand 3 Chicago datasets  \n",
    "1. Load the 3 datasets into 3 tables in a Db2 database\n",
    "1. Execute SQL queries to answer assignment questions "
   ]
  },
  {
   "cell_type": "markdown",
   "metadata": {},
   "source": [
    "## Understand the datasets \n",
    "To complete the assignment problems in this notebook you will be using three datasets that are available on the city of Chicago's Data Portal:\n",
    "1. <a href=\"https://data.cityofchicago.org/Health-Human-Services/Census-Data-Selected-socioeconomic-indicators-in-C/kn9c-c2s2\">Socioeconomic Indicators in Chicago</a>\n",
    "1. <a href=\"https://data.cityofchicago.org/Education/Chicago-Public-Schools-Progress-Report-Cards-2011-/9xs2-f89t\">Chicago Public Schools</a>\n",
    "1. <a href=\"https://data.cityofchicago.org/Public-Safety/Crimes-2001-to-present/ijzp-q8t2\">Chicago Crime Data</a>\n",
    "\n",
    "### 1. Socioeconomic Indicators in Chicago\n",
    "This dataset contains a selection of six socioeconomic indicators of public health significance and a “hardship index,” for each Chicago community area, for the years 2008 – 2012.\n",
    "\n",
    "For this assignment you will use a snapshot of this dataset which can be downloaded from:\n",
    "https://ibm.box.com/shared/static/05c3415cbfbtfnr2fx4atenb2sd361ze.csv\n",
    "\n",
    "A detailed description of this dataset and the original dataset can be obtained from the Chicago Data Portal at:\n",
    "https://data.cityofchicago.org/Health-Human-Services/Census-Data-Selected-socioeconomic-indicators-in-C/kn9c-c2s2\n",
    "\n",
    "\n",
    "\n",
    "### 2. Chicago Public Schools\n",
    "\n",
    "This dataset shows all school level performance data used to create CPS School Report Cards for the 2011-2012 school year. This dataset is provided by the city of Chicago's Data Portal.\n",
    "\n",
    "For this assignment you will use a snapshot of this dataset which can be downloaded from:\n",
    "https://ibm.box.com/shared/static/f9gjvj1gjmxxzycdhplzt01qtz0s7ew7.csv\n",
    "\n",
    "A detailed description of this dataset and the original dataset can be obtained from the Chicago Data Portal at:\n",
    "https://data.cityofchicago.org/Education/Chicago-Public-Schools-Progress-Report-Cards-2011-/9xs2-f89t\n",
    "\n",
    "\n",
    "\n",
    "\n",
    "### 3. Chicago Crime Data \n",
    "\n",
    "This dataset reflects reported incidents of crime (with the exception of murders where data exists for each victim) that occurred in the City of Chicago from 2001 to present, minus the most recent seven days. \n",
    "\n",
    "This dataset is quite large - over 1.5GB in size with over 6.5 million rows. For the purposes of this assignment we will use a much smaller sample of this dataset which can be downloaded from:\n",
    "https://ibm.box.com/shared/static/svflyugsr9zbqy5bmowgswqemfpm1x7f.csv\n",
    "\n",
    "A detailed description of this dataset and the original dataset can be obtained from the Chicago Data Portal at:\n",
    "https://data.cityofchicago.org/Public-Safety/Crimes-2001-to-present/ijzp-q8t2\n"
   ]
  },
  {
   "cell_type": "markdown",
   "metadata": {},
   "source": [
    "### Download the datasets\n",
    "In many cases the dataset to be analyzed is available as a .CSV (comma separated values) file, perhaps on the internet. Click on the links below to download and save the datasets (.CSV files):\n",
    "1. __CENSUS_DATA:__ https://ibm.box.com/shared/static/05c3415cbfbtfnr2fx4atenb2sd361ze.csv\n",
    "1. __CHICAGO_PUBLIC_SCHOOLS__  https://ibm.box.com/shared/static/f9gjvj1gjmxxzycdhplzt01qtz0s7ew7.csv\n",
    "1. __CHICAGO_CRIME_DATA:__ https://ibm.box.com/shared/static/svflyugsr9zbqy5bmowgswqemfpm1x7f.csv\n",
    "\n",
    "__NOTE:__ Ensure you have downloaded the datasets using the links above instead of directly from the Chicago Data Portal. The versions linked here are subsets of the original datasets and have some of the column names modified to be more database friendly which will make it easier to complete this assignment."
   ]
  },
  {
   "cell_type": "markdown",
   "metadata": {},
   "source": [
    "### Store the datasets in database tables\n",
    "To analyze the data using SQL, it first needs to be stored in the database.\n",
    "\n",
    "While it is easier to read the dataset into a Pandas dataframe and then PERSIST it into the database as we saw in Week 3 Lab 3, it results in mapping to default datatypes which may not be optimal for SQL querying. For example a long textual field may map to a CLOB instead of a VARCHAR. \n",
    "\n",
    "Therefore, __it is highly recommended to manually load the table using the database console LOAD tool, as indicated in Week 2 Lab 1 Part II__. The only difference with that lab is that in Step 5 of the instructions you will need to click on create \"(+) New Table\" and specify the name of the table you want to create and then click \"Next\". \n",
    "\n",
    "<img src = \"https://ibm.box.com/shared/static/uc4xjh1uxcc78ks1i18v668simioz4es.jpg\">\n",
    "\n",
    "##### Now open the Db2 console, open the LOAD tool, Select / Drag the .CSV file for the first dataset, Next create a New Table, and then follow the steps on-screen instructions to load the data. Name the new tables as folows:\n",
    "1. __CENSUS_DATA__\n",
    "1. __CHICAGO_PUBLIC_SCHOOLS__\n",
    "1. __CHICAGO_CRIME_DATA__"
   ]
  },
  {
   "cell_type": "markdown",
   "metadata": {},
   "source": [
    "### Connect to the database \n",
    "Let us first load the SQL extension and establish a connection with the database"
   ]
  },
  {
   "cell_type": "code",
   "execution_count": 1,
   "metadata": {},
   "outputs": [],
   "source": [
    "%load_ext sql"
   ]
  },
  {
   "cell_type": "markdown",
   "metadata": {},
   "source": [
    "In the next cell enter your db2 connection string. Recall you created Service Credentials for your Db2 instance in first lab in Week 3. From the __uri__ field of your Db2 service credentials copy everything after db2:// (except the double quote at the end) and paste it in the cell below after ibm_db_sa://\n",
    "\n",
    "<img src =\"https://ibm.box.com/shared/static/hzhkvdyinpupm2wfx49lkr71q9swbpec.jpg\">"
   ]
  },
  {
   "cell_type": "code",
   "execution_count": 2,
   "metadata": {},
   "outputs": [
    {
     "data": {
      "text/plain": [
       "'Connected: dash100410@BLUDB'"
      ]
     },
     "execution_count": 2,
     "metadata": {},
     "output_type": "execute_result"
    }
   ],
   "source": [
    "# Remember the connection string is of the format:\n",
    "# %sql ibm_db_sa://my-username:my-password@my-hostname:my-port/my-db-name\n",
    "# Enter the connection string for your Db2 on Cloud database instance below\n",
    "%sql ibm_db_sa://dash100410:_oAykQ79P_fI@dashdb-entry-yp-dal09-08.services.dal.bluemix.net:50000/BLUDB"
   ]
  },
  {
   "cell_type": "markdown",
   "metadata": {},
   "source": [
    "## Problems\n",
    "Now write and execute SQL queries to solve assignment problems\n",
    "\n",
    "### Problem 1\n",
    "\n",
    "##### Find the total number of crimes recorded in the CRIME table"
   ]
  },
  {
   "cell_type": "code",
   "execution_count": 3,
   "metadata": {},
   "outputs": [
    {
     "name": "stdout",
     "output_type": "stream",
     "text": [
      " * ibm_db_sa://dash100410:***@dashdb-entry-yp-dal09-08.services.dal.bluemix.net:50000/BLUDB\n",
      "Done.\n"
     ]
    },
    {
     "data": {
      "text/html": [
       "<table>\n",
       "    <tr>\n",
       "        <th>Total Crimes</th>\n",
       "    </tr>\n",
       "    <tr>\n",
       "        <td>533</td>\n",
       "    </tr>\n",
       "</table>"
      ],
      "text/plain": [
       "[(Decimal('533'),)]"
      ]
     },
     "execution_count": 3,
     "metadata": {},
     "output_type": "execute_result"
    }
   ],
   "source": [
    "%sql SELECT COUNT(id) as \"Total Crimes\" FROM \"CRIME DATA\"\n"
   ]
  },
  {
   "cell_type": "markdown",
   "metadata": {},
   "source": [
    "### Problem 2\n",
    "\n",
    "##### Retrieve first 10 rows from the CRIME table\n"
   ]
  },
  {
   "cell_type": "code",
   "execution_count": 37,
   "metadata": {
    "collapsed": true
   },
   "outputs": [
    {
     "name": "stdout",
     "output_type": "stream",
     "text": [
      " * ibm_db_sa://dash100410:***@dashdb-entry-yp-dal09-08.services.dal.bluemix.net:50000/BLUDB\n",
      "Done.\n"
     ]
    },
    {
     "data": {
      "text/html": [
       "<table>\n",
       "    <tr>\n",
       "        <th>id</th>\n",
       "        <th>case_number</th>\n",
       "        <th>DATE</th>\n",
       "        <th>block</th>\n",
       "        <th>iucr</th>\n",
       "        <th>primary_type</th>\n",
       "        <th>description</th>\n",
       "        <th>location_description</th>\n",
       "        <th>arrest</th>\n",
       "        <th>domestic</th>\n",
       "        <th>beat</th>\n",
       "        <th>district</th>\n",
       "        <th>ward</th>\n",
       "        <th>community_area_number</th>\n",
       "        <th>fbicode</th>\n",
       "        <th>x_coordinate</th>\n",
       "        <th>y_coordinate</th>\n",
       "        <th>YEAR</th>\n",
       "        <th>updatedon</th>\n",
       "        <th>latitude</th>\n",
       "        <th>longitude</th>\n",
       "        <th>location</th>\n",
       "    </tr>\n",
       "    <tr>\n",
       "        <td>2103277</td>\n",
       "        <td>HH337319</td>\n",
       "        <td>04/28/2002 02:30:00 PM</td>\n",
       "        <td>023XX N KEATING AVE</td>\n",
       "        <td>910</td>\n",
       "        <td>MOTOR VEHICLE THEFT</td>\n",
       "        <td>AUTOMOBILE</td>\n",
       "        <td>STREET</td>\n",
       "        <td>FALSE</td>\n",
       "        <td>FALSE</td>\n",
       "        <td>2522</td>\n",
       "        <td>25</td>\n",
       "        <td>31</td>\n",
       "        <td>19</td>\n",
       "        <td>7</td>\n",
       "        <td>1144344</td>\n",
       "        <td>1915147</td>\n",
       "        <td>2002</td>\n",
       "        <td>02/28/2018 03:56:25 PM</td>\n",
       "        <td>41.92318331</td>\n",
       "        <td>-87.74505509</td>\n",
       "        <td>(41.923183306, -87.745055091)</td>\n",
       "    </tr>\n",
       "    <tr>\n",
       "        <td>2169996</td>\n",
       "        <td>HH423186</td>\n",
       "        <td>06/06/2002 12:15:00 AM</td>\n",
       "        <td>046XX S CHRISTIANA AVE</td>\n",
       "        <td>910</td>\n",
       "        <td>MOTOR VEHICLE THEFT</td>\n",
       "        <td>AUTOMOBILE</td>\n",
       "        <td>STREET</td>\n",
       "        <td>FALSE</td>\n",
       "        <td>FALSE</td>\n",
       "        <td>821</td>\n",
       "        <td>8</td>\n",
       "        <td>14</td>\n",
       "        <td>58</td>\n",
       "        <td>7</td>\n",
       "        <td>1154837</td>\n",
       "        <td>1873772</td>\n",
       "        <td>2002</td>\n",
       "        <td>02/28/2018 03:56:25 PM</td>\n",
       "        <td>41.80944182</td>\n",
       "        <td>-87.70760798</td>\n",
       "        <td>(41.809441824, -87.707607982)</td>\n",
       "    </tr>\n",
       "    <tr>\n",
       "        <td>5733472</td>\n",
       "        <td>HN543219</td>\n",
       "        <td>08/21/2007 08:30:00 PM</td>\n",
       "        <td>061XX S MAPLEWOOD AVE</td>\n",
       "        <td>910</td>\n",
       "        <td>MOTOR VEHICLE THEFT</td>\n",
       "        <td>AUTOMOBILE</td>\n",
       "        <td>STREET</td>\n",
       "        <td>FALSE</td>\n",
       "        <td>FALSE</td>\n",
       "        <td>825</td>\n",
       "        <td>8</td>\n",
       "        <td>15</td>\n",
       "        <td>66</td>\n",
       "        <td>7</td>\n",
       "        <td>1160422</td>\n",
       "        <td>1863958</td>\n",
       "        <td>2007</td>\n",
       "        <td>02/10/2018 03:50:01 PM</td>\n",
       "        <td>41.78239751</td>\n",
       "        <td>-87.68739352</td>\n",
       "        <td>(41.782397506, -87.687393515)</td>\n",
       "    </tr>\n",
       "    <tr>\n",
       "        <td>10707046</td>\n",
       "        <td>HZ463811</td>\n",
       "        <td>10/06/2016 01:30:00 PM</td>\n",
       "        <td>0000X W CTA OHARE PLATFORM ST</td>\n",
       "        <td>1150</td>\n",
       "        <td>DECEPTIVE PRACTICE</td>\n",
       "        <td>CREDIT CARD FRAUD</td>\n",
       "        <td>CTA TRAIN</td>\n",
       "        <td>FALSE</td>\n",
       "        <td>FALSE</td>\n",
       "        <td>1654</td>\n",
       "        <td>16</td>\n",
       "        <td>41</td>\n",
       "        <td>76</td>\n",
       "        <td>11</td>\n",
       "        <td>1100955</td>\n",
       "        <td>1934905</td>\n",
       "        <td>2016</td>\n",
       "        <td>02/10/2018 03:50:01 PM</td>\n",
       "        <td>41.97810845</td>\n",
       "        <td>-87.90412276</td>\n",
       "        <td>(41.978108446, -87.904122758)</td>\n",
       "    </tr>\n",
       "    <tr>\n",
       "        <td>5904817</td>\n",
       "        <td>HN702776</td>\n",
       "        <td>11/09/2007 01:50:00 PM</td>\n",
       "        <td>005XX N KINGSBURY ST</td>\n",
       "        <td>1150</td>\n",
       "        <td>DECEPTIVE PRACTICE</td>\n",
       "        <td>CREDIT CARD FRAUD</td>\n",
       "        <td>RESTAURANT</td>\n",
       "        <td>FALSE</td>\n",
       "        <td>FALSE</td>\n",
       "        <td>1831</td>\n",
       "        <td>18</td>\n",
       "        <td>42</td>\n",
       "        <td>8</td>\n",
       "        <td>11</td>\n",
       "        <td>1173193</td>\n",
       "        <td>1903598</td>\n",
       "        <td>2007</td>\n",
       "        <td>02/28/2018 03:56:25 PM</td>\n",
       "        <td>41.89090025</td>\n",
       "        <td>-87.63939736</td>\n",
       "        <td>(41.890900247, -87.639397357)</td>\n",
       "    </tr>\n",
       "    <tr>\n",
       "        <td>7195847</td>\n",
       "        <td>HR607189</td>\n",
       "        <td>10/25/2009 12:10:00 PM</td>\n",
       "        <td>059XX N LINCOLN AVE</td>\n",
       "        <td>1210</td>\n",
       "        <td>DECEPTIVE PRACTICE</td>\n",
       "        <td>THEFT OF LABOR/SERVICES</td>\n",
       "        <td>RESTAURANT</td>\n",
       "        <td>FALSE</td>\n",
       "        <td>FALSE</td>\n",
       "        <td>2011</td>\n",
       "        <td>20</td>\n",
       "        <td>40</td>\n",
       "        <td>2</td>\n",
       "        <td>11</td>\n",
       "        <td>1155105</td>\n",
       "        <td>1939170</td>\n",
       "        <td>2009</td>\n",
       "        <td>02/28/2018 03:56:25 PM</td>\n",
       "        <td>41.98889458</td>\n",
       "        <td>-87.70486783</td>\n",
       "        <td>(41.988894576, -87.704867826)</td>\n",
       "    </tr>\n",
       "    <tr>\n",
       "        <td>1826250</td>\n",
       "        <td>G654957</td>\n",
       "        <td>10/20/2001 12:00:00 AM</td>\n",
       "        <td>016XX E 95 ST</td>\n",
       "        <td>1120</td>\n",
       "        <td>DECEPTIVE PRACTICE</td>\n",
       "        <td>FORGERY</td>\n",
       "        <td>BANK</td>\n",
       "        <td>FALSE</td>\n",
       "        <td>FALSE</td>\n",
       "        <td>431</td>\n",
       "        <td>4</td>\n",
       "        <td>None</td>\n",
       "        <td>None</td>\n",
       "        <td>10</td>\n",
       "        <td>1189065</td>\n",
       "        <td>1842275</td>\n",
       "        <td>2001</td>\n",
       "        <td>08/17/2015 03:03:40 PM</td>\n",
       "        <td>41.72225893</td>\n",
       "        <td>-87.58307441</td>\n",
       "        <td>(41.722258934, -87.583074406)</td>\n",
       "    </tr>\n",
       "    <tr>\n",
       "        <td>3761051</td>\n",
       "        <td>HL131736</td>\n",
       "        <td>01/13/2005 12:00:00 PM</td>\n",
       "        <td>078XX S WINCHESTER AVE</td>\n",
       "        <td>1150</td>\n",
       "        <td>DECEPTIVE PRACTICE</td>\n",
       "        <td>CREDIT CARD FRAUD</td>\n",
       "        <td>RESIDENCE</td>\n",
       "        <td>FALSE</td>\n",
       "        <td>TRUE</td>\n",
       "        <td>611</td>\n",
       "        <td>6</td>\n",
       "        <td>18</td>\n",
       "        <td>71</td>\n",
       "        <td>11</td>\n",
       "        <td>1164718</td>\n",
       "        <td>1852772</td>\n",
       "        <td>2005</td>\n",
       "        <td>02/10/2018 03:50:01 PM</td>\n",
       "        <td>41.75161195</td>\n",
       "        <td>-87.67195845</td>\n",
       "        <td>(41.751611954, -87.671958451)</td>\n",
       "    </tr>\n",
       "    <tr>\n",
       "        <td>5713696</td>\n",
       "        <td>HN519755</td>\n",
       "        <td>08/10/2007 12:40:00 AM</td>\n",
       "        <td>023XX W GRAND AVE</td>\n",
       "        <td>1220</td>\n",
       "        <td>DECEPTIVE PRACTICE</td>\n",
       "        <td>THEFT OF LOST/MISLAID PROP</td>\n",
       "        <td>STREET</td>\n",
       "        <td>TRUE</td>\n",
       "        <td>FALSE</td>\n",
       "        <td>1313</td>\n",
       "        <td>12</td>\n",
       "        <td>26</td>\n",
       "        <td>24</td>\n",
       "        <td>11</td>\n",
       "        <td>1160756</td>\n",
       "        <td>1903423</td>\n",
       "        <td>2007</td>\n",
       "        <td>02/28/2018 03:56:25 PM</td>\n",
       "        <td>41.89068696</td>\n",
       "        <td>-87.68507699</td>\n",
       "        <td>(41.890686955, -87.685076991)</td>\n",
       "    </tr>\n",
       "    <tr>\n",
       "        <td>1803248</td>\n",
       "        <td>G629024</td>\n",
       "        <td>06/10/2001 12:00:00 AM</td>\n",
       "        <td>046XX N DELPHIA AV</td>\n",
       "        <td>1130</td>\n",
       "        <td>DECEPTIVE PRACTICE</td>\n",
       "        <td>FRAUD OR CONFIDENCE GAME</td>\n",
       "        <td>OTHER</td>\n",
       "        <td>FALSE</td>\n",
       "        <td>FALSE</td>\n",
       "        <td>1614</td>\n",
       "        <td>16</td>\n",
       "        <td>None</td>\n",
       "        <td>None</td>\n",
       "        <td>11</td>\n",
       "        <td>1117909</td>\n",
       "        <td>1930160</td>\n",
       "        <td>2001</td>\n",
       "        <td>08/17/2015 03:03:40 PM</td>\n",
       "        <td>41.96483755</td>\n",
       "        <td>-87.84187255</td>\n",
       "        <td>(41.964837552, -87.841872545)</td>\n",
       "    </tr>\n",
       "</table>"
      ],
      "text/plain": [
       "[(2103277, 'HH337319', '04/28/2002 02:30:00 PM', '023XX N KEATING AVE', '910', 'MOTOR VEHICLE THEFT', 'AUTOMOBILE', 'STREET', 'FALSE', 'FALSE', 2522, 25, 31, 19, '7', 1144344, 1915147, 2002, '02/28/2018 03:56:25 PM', Decimal('41.92318331'), Decimal('-87.74505509'), '(41.923183306, -87.745055091)'),\n",
       " (2169996, 'HH423186', '06/06/2002 12:15:00 AM', '046XX S CHRISTIANA AVE', '910', 'MOTOR VEHICLE THEFT', 'AUTOMOBILE', 'STREET', 'FALSE', 'FALSE', 821, 8, 14, 58, '7', 1154837, 1873772, 2002, '02/28/2018 03:56:25 PM', Decimal('41.80944182'), Decimal('-87.70760798'), '(41.809441824, -87.707607982)'),\n",
       " (5733472, 'HN543219', '08/21/2007 08:30:00 PM', '061XX S MAPLEWOOD AVE', '910', 'MOTOR VEHICLE THEFT', 'AUTOMOBILE', 'STREET', 'FALSE', 'FALSE', 825, 8, 15, 66, '7', 1160422, 1863958, 2007, '02/10/2018 03:50:01 PM', Decimal('41.78239751'), Decimal('-87.68739352'), '(41.782397506, -87.687393515)'),\n",
       " (10707046, 'HZ463811', '10/06/2016 01:30:00 PM', '0000X W CTA OHARE PLATFORM ST', '1150', 'DECEPTIVE PRACTICE', 'CREDIT CARD FRAUD', 'CTA TRAIN', 'FALSE', 'FALSE', 1654, 16, 41, 76, '11', 1100955, 1934905, 2016, '02/10/2018 03:50:01 PM', Decimal('41.97810845'), Decimal('-87.90412276'), '(41.978108446, -87.904122758)'),\n",
       " (5904817, 'HN702776', '11/09/2007 01:50:00 PM', '005XX N KINGSBURY ST', '1150', 'DECEPTIVE PRACTICE', 'CREDIT CARD FRAUD', 'RESTAURANT', 'FALSE', 'FALSE', 1831, 18, 42, 8, '11', 1173193, 1903598, 2007, '02/28/2018 03:56:25 PM', Decimal('41.89090025'), Decimal('-87.63939736'), '(41.890900247, -87.639397357)'),\n",
       " (7195847, 'HR607189', '10/25/2009 12:10:00 PM', '059XX N LINCOLN AVE', '1210', 'DECEPTIVE PRACTICE', 'THEFT OF LABOR/SERVICES', 'RESTAURANT', 'FALSE', 'FALSE', 2011, 20, 40, 2, '11', 1155105, 1939170, 2009, '02/28/2018 03:56:25 PM', Decimal('41.98889458'), Decimal('-87.70486783'), '(41.988894576, -87.704867826)'),\n",
       " (1826250, 'G654957', '10/20/2001 12:00:00 AM', '016XX E 95 ST', '1120', 'DECEPTIVE PRACTICE', 'FORGERY', 'BANK', 'FALSE', 'FALSE', 431, 4, None, None, '10', 1189065, 1842275, 2001, '08/17/2015 03:03:40 PM', Decimal('41.72225893'), Decimal('-87.58307441'), '(41.722258934, -87.583074406)'),\n",
       " (3761051, 'HL131736', '01/13/2005 12:00:00 PM', '078XX S WINCHESTER AVE', '1150', 'DECEPTIVE PRACTICE', 'CREDIT CARD FRAUD', 'RESIDENCE', 'FALSE', 'TRUE', 611, 6, 18, 71, '11', 1164718, 1852772, 2005, '02/10/2018 03:50:01 PM', Decimal('41.75161195'), Decimal('-87.67195845'), '(41.751611954, -87.671958451)'),\n",
       " (5713696, 'HN519755', '08/10/2007 12:40:00 AM', '023XX W GRAND AVE', '1220', 'DECEPTIVE PRACTICE', 'THEFT OF LOST/MISLAID PROP', 'STREET', 'TRUE', 'FALSE', 1313, 12, 26, 24, '11', 1160756, 1903423, 2007, '02/28/2018 03:56:25 PM', Decimal('41.89068696'), Decimal('-87.68507699'), '(41.890686955, -87.685076991)'),\n",
       " (1803248, 'G629024', '06/10/2001 12:00:00 AM', '046XX N DELPHIA AV', '1130', 'DECEPTIVE PRACTICE', 'FRAUD OR CONFIDENCE GAME', 'OTHER', 'FALSE', 'FALSE', 1614, 16, None, None, '11', 1117909, 1930160, 2001, '08/17/2015 03:03:40 PM', Decimal('41.96483755'), Decimal('-87.84187255'), '(41.964837552, -87.841872545)')]"
      ]
     },
     "execution_count": 37,
     "metadata": {},
     "output_type": "execute_result"
    }
   ],
   "source": [
    "%sql SELECT * FROM \"CRIME DATA\" LIMIT 10"
   ]
  },
  {
   "cell_type": "markdown",
   "metadata": {},
   "source": [
    "### Problem 3\n",
    "\n",
    "##### How many crimes involve an arrest?"
   ]
  },
  {
   "cell_type": "code",
   "execution_count": 38,
   "metadata": {
    "collapsed": true
   },
   "outputs": [
    {
     "name": "stdout",
     "output_type": "stream",
     "text": [
      " * ibm_db_sa://dash100410:***@dashdb-entry-yp-dal09-08.services.dal.bluemix.net:50000/BLUDB\n",
      "Done.\n"
     ]
    },
    {
     "data": {
      "text/html": [
       "<table>\n",
       "    <tr>\n",
       "        <th>Crimes Involves Arrest</th>\n",
       "    </tr>\n",
       "    <tr>\n",
       "        <td>163</td>\n",
       "    </tr>\n",
       "</table>"
      ],
      "text/plain": [
       "[(Decimal('163'),)]"
      ]
     },
     "execution_count": 38,
     "metadata": {},
     "output_type": "execute_result"
    }
   ],
   "source": [
    "%sql SELECT COUNT(arrest) as \"Crimes Involves Arrest\" FROM \"CRIME DATA\" WHERE arrest=\"TRUE\""
   ]
  },
  {
   "cell_type": "markdown",
   "metadata": {},
   "source": [
    "### Problem 4\n",
    "\n",
    "##### Which unique types of crimes have been recorded at GAS STATION locations?\n"
   ]
  },
  {
   "cell_type": "code",
   "execution_count": 39,
   "metadata": {
    "collapsed": true
   },
   "outputs": [
    {
     "name": "stdout",
     "output_type": "stream",
     "text": [
      " * ibm_db_sa://dash100410:***@dashdb-entry-yp-dal09-08.services.dal.bluemix.net:50000/BLUDB\n",
      "Done.\n"
     ]
    },
    {
     "data": {
      "text/html": [
       "<table>\n",
       "    <tr>\n",
       "        <th>PRIMARY TYPE</th>\n",
       "        <th>GAS STATION LOCATION</th>\n",
       "    </tr>\n",
       "    <tr>\n",
       "        <td>ROBBERY</td>\n",
       "        <td>GAS STATION</td>\n",
       "    </tr>\n",
       "    <tr>\n",
       "        <td>NARCOTICS</td>\n",
       "        <td>GAS STATION</td>\n",
       "    </tr>\n",
       "    <tr>\n",
       "        <td>CRIMINAL TRESPASS</td>\n",
       "        <td>GAS STATION</td>\n",
       "    </tr>\n",
       "    <tr>\n",
       "        <td>THEFT</td>\n",
       "        <td>GAS STATION</td>\n",
       "    </tr>\n",
       "</table>"
      ],
      "text/plain": [
       "[('ROBBERY', 'GAS STATION'),\n",
       " ('NARCOTICS', 'GAS STATION'),\n",
       " ('CRIMINAL TRESPASS', 'GAS STATION'),\n",
       " ('THEFT', 'GAS STATION')]"
      ]
     },
     "execution_count": 39,
     "metadata": {},
     "output_type": "execute_result"
    }
   ],
   "source": [
    "%sql SELECT DISTINCT(PRIMARY_TYPE) AS \"PRIMARY TYPE\", location_description AS \"GAS STATION LOCATION\" FROM \"CRIME DATA\"  WHERE location_description='GAS STATION'"
   ]
  },
  {
   "cell_type": "markdown",
   "metadata": {},
   "source": [
    "Hint: Which column lists types of crimes e.g. THEFT?"
   ]
  },
  {
   "cell_type": "markdown",
   "metadata": {},
   "source": [
    "### Problem 5\n",
    "\n",
    "##### In the CENUS_DATA table list all Community Areas whose names start with the letter ‘B’."
   ]
  },
  {
   "cell_type": "code",
   "execution_count": 40,
   "metadata": {
    "collapsed": true
   },
   "outputs": [
    {
     "name": "stdout",
     "output_type": "stream",
     "text": [
      " * ibm_db_sa://dash100410:***@dashdb-entry-yp-dal09-08.services.dal.bluemix.net:50000/BLUDB\n",
      "Done.\n"
     ]
    },
    {
     "data": {
      "text/html": [
       "<table>\n",
       "    <tr>\n",
       "        <th>community_area_name</th>\n",
       "    </tr>\n",
       "    <tr>\n",
       "        <td>Belmont Cragin</td>\n",
       "    </tr>\n",
       "    <tr>\n",
       "        <td>Burnside</td>\n",
       "    </tr>\n",
       "    <tr>\n",
       "        <td>Brighton Park</td>\n",
       "    </tr>\n",
       "    <tr>\n",
       "        <td>Bridgeport</td>\n",
       "    </tr>\n",
       "    <tr>\n",
       "        <td>Beverly</td>\n",
       "    </tr>\n",
       "</table>"
      ],
      "text/plain": [
       "[('Belmont Cragin',),\n",
       " ('Burnside',),\n",
       " ('Brighton Park',),\n",
       " ('Bridgeport',),\n",
       " ('Beverly',)]"
      ]
     },
     "execution_count": 40,
     "metadata": {},
     "output_type": "execute_result"
    }
   ],
   "source": [
    "%sql SELECT COMMUNITY_AREA_NAME FROM SOCIOECONOMIC WHERE COMMUNITY_AREA_NAME LIKE'B%'"
   ]
  },
  {
   "cell_type": "markdown",
   "metadata": {},
   "source": [
    "### Problem 6\n",
    "\n",
    "##### Which schools in Community Areas 10 to 15 are healthy school certified?"
   ]
  },
  {
   "cell_type": "code",
   "execution_count": 41,
   "metadata": {
    "collapsed": true
   },
   "outputs": [
    {
     "name": "stdout",
     "output_type": "stream",
     "text": [
      " * ibm_db_sa://dash100410:***@dashdb-entry-yp-dal09-08.services.dal.bluemix.net:50000/BLUDB\n",
      "Done.\n"
     ]
    },
    {
     "data": {
      "text/html": [
       "<table>\n",
       "    <tr>\n",
       "        <th>name_of_school</th>\n",
       "    </tr>\n",
       "    <tr>\n",
       "        <td>Rufus M Hitch Elementary School</td>\n",
       "    </tr>\n",
       "</table>"
      ],
      "text/plain": [
       "[('Rufus M Hitch Elementary School',)]"
      ]
     },
     "execution_count": 41,
     "metadata": {},
     "output_type": "execute_result"
    }
   ],
   "source": [
    "%sql select NAME_OF_SCHOOL from \"PUBLIC SCHOOLS\" where HEALTHY_SCHOOL_CERTIFIED=True AND COMMUNITY_AREA_NUMBER between 10 and 15\n"
   ]
  },
  {
   "cell_type": "markdown",
   "metadata": {},
   "source": [
    "### Problem 7\n",
    "\n",
    "##### What is the average school Safety Score? "
   ]
  },
  {
   "cell_type": "code",
   "execution_count": 42,
   "metadata": {},
   "outputs": [
    {
     "name": "stdout",
     "output_type": "stream",
     "text": [
      " * ibm_db_sa://dash100410:***@dashdb-entry-yp-dal09-08.services.dal.bluemix.net:50000/BLUDB\n",
      "Done.\n"
     ]
    },
    {
     "data": {
      "text/html": [
       "<table>\n",
       "    <tr>\n",
       "        <th>AVERAGE SAFETY SCORE</th>\n",
       "    </tr>\n",
       "    <tr>\n",
       "        <td>49.504873</td>\n",
       "    </tr>\n",
       "</table>"
      ],
      "text/plain": [
       "[(Decimal('49.504873'),)]"
      ]
     },
     "execution_count": 42,
     "metadata": {},
     "output_type": "execute_result"
    }
   ],
   "source": [
    "%sql SELECT AVG(SAFETY_SCORE) AS \"AVERAGE SAFETY SCORE\" FROM \"PUBLIC SCHOOLS\""
   ]
  },
  {
   "cell_type": "markdown",
   "metadata": {},
   "source": [
    "### Problem 8\n",
    "\n",
    "##### List the top 5 Community Areas by average College Enrollment [number of students] "
   ]
  },
  {
   "cell_type": "code",
   "execution_count": 43,
   "metadata": {},
   "outputs": [
    {
     "name": "stdout",
     "output_type": "stream",
     "text": [
      " * ibm_db_sa://dash100410:***@dashdb-entry-yp-dal09-08.services.dal.bluemix.net:50000/BLUDB\n",
      "Done.\n"
     ]
    },
    {
     "data": {
      "text/html": [
       "<table>\n",
       "    <tr>\n",
       "        <th>community_area_name</th>\n",
       "        <th>avg_enrollment</th>\n",
       "    </tr>\n",
       "    <tr>\n",
       "        <td>ARCHER HEIGHTS</td>\n",
       "        <td>2411.500000</td>\n",
       "    </tr>\n",
       "    <tr>\n",
       "        <td>MONTCLARE</td>\n",
       "        <td>1317.000000</td>\n",
       "    </tr>\n",
       "    <tr>\n",
       "        <td>WEST ELSDON</td>\n",
       "        <td>1233.333333</td>\n",
       "    </tr>\n",
       "    <tr>\n",
       "        <td>BRIGHTON PARK</td>\n",
       "        <td>1205.875000</td>\n",
       "    </tr>\n",
       "    <tr>\n",
       "        <td>BELMONT CRAGIN</td>\n",
       "        <td>1198.833333</td>\n",
       "    </tr>\n",
       "</table>"
      ],
      "text/plain": [
       "[('ARCHER HEIGHTS', Decimal('2411.500000')),\n",
       " ('MONTCLARE', Decimal('1317.000000')),\n",
       " ('WEST ELSDON', Decimal('1233.333333')),\n",
       " ('BRIGHTON PARK', Decimal('1205.875000')),\n",
       " ('BELMONT CRAGIN', Decimal('1198.833333'))]"
      ]
     },
     "execution_count": 43,
     "metadata": {},
     "output_type": "execute_result"
    }
   ],
   "source": [
    "%sql SELECT COMMUNITY_AREA_NAME, AVG(COLLEGE_ENROLLMENT) as AVG_ENROLLMENT FROM \"PUBLIC SCHOOLS\" group by COMMUNITY_AREA_NAME order by AVG_ENROLLMENT desc LIMIT 5\n"
   ]
  },
  {
   "cell_type": "markdown",
   "metadata": {},
   "source": [
    "### Problem 9\n",
    "\n",
    "##### Use a sub-query to determine which Community Area has the least value for school Safety Score? "
   ]
  },
  {
   "cell_type": "code",
   "execution_count": 44,
   "metadata": {},
   "outputs": [
    {
     "name": "stdout",
     "output_type": "stream",
     "text": [
      " * ibm_db_sa://dash100410:***@dashdb-entry-yp-dal09-08.services.dal.bluemix.net:50000/BLUDB\n",
      "Done.\n"
     ]
    },
    {
     "data": {
      "text/html": [
       "<table>\n",
       "    <tr>\n",
       "        <th>COMMUNITY AREA NAME</th>\n",
       "        <th>LEAST SAFETY SCORE</th>\n",
       "    </tr>\n",
       "    <tr>\n",
       "        <td>WASHINGTON PARK</td>\n",
       "        <td>1</td>\n",
       "    </tr>\n",
       "</table>"
      ],
      "text/plain": [
       "[('WASHINGTON PARK', 1)]"
      ]
     },
     "execution_count": 44,
     "metadata": {},
     "output_type": "execute_result"
    }
   ],
   "source": [
    "%sql SELECT  COMMUNITY_AREA_NAME AS \"COMMUNITY AREA NAME\", SAFETY_SCORE AS \"LEAST SAFETY SCORE\" FROM \"PUBLIC SCHOOLS\" WHERE SAFETY_SCORE = (SELECT MIN(SAFETY_SCORE) FROM \"PUBLIC SCHOOLS\")"
   ]
  },
  {
   "cell_type": "markdown",
   "metadata": {},
   "source": [
    "### Problem 10\n",
    "\n",
    "##### [Without using an explicit JOIN operator] Find the Per Capita Income of the Community Area which has a school Safety Score of 1."
   ]
  },
  {
   "cell_type": "code",
   "execution_count": 35,
   "metadata": {},
   "outputs": [
    {
     "name": "stdout",
     "output_type": "stream",
     "text": [
      " * ibm_db_sa://dash100410:***@dashdb-entry-yp-dal09-08.services.dal.bluemix.net:50000/BLUDB\n",
      "Done.\n"
     ]
    },
    {
     "data": {
      "text/html": [
       "<table>\n",
       "    <tr>\n",
       "        <th>community_area_name</th>\n",
       "        <th>per_capita_income</th>\n",
       "    </tr>\n",
       "    <tr>\n",
       "        <td>Washington Park</td>\n",
       "        <td>13785</td>\n",
       "    </tr>\n",
       "</table>"
      ],
      "text/plain": [
       "[('Washington Park', 13785)]"
      ]
     },
     "execution_count": 35,
     "metadata": {},
     "output_type": "execute_result"
    }
   ],
   "source": [
    "%sql SELECT E.COMMUNITY_AREA_NAME, E.PER_CAPITA_INCOME FROM \"PUBLIC SCHOOLS\" P, SOCIOECONOMIC E WHERE E.COMMUNITY_AREA_NUMBER =P.COMMUNITY_AREA_NUMBER  and P.SAFETY_SCORE = 1"
   ]
  },
  {
   "cell_type": "markdown",
   "metadata": {},
   "source": [
    "Copyright &copy; 2018 [cognitiveclass.ai](cognitiveclass.ai?utm_source=bducopyrightlink&utm_medium=dswb&utm_campaign=bdu). This notebook and its source code are released under the terms of the [MIT License](https://bigdatauniversity.com/mit-license/).\n"
   ]
  }
 ],
 "metadata": {
  "kernelspec": {
   "display_name": "Python 3",
   "language": "python",
   "name": "python3"
  },
  "language_info": {
   "codemirror_mode": {
    "name": "ipython",
    "version": 3
   },
   "file_extension": ".py",
   "mimetype": "text/x-python",
   "name": "python",
   "nbconvert_exporter": "python",
   "pygments_lexer": "ipython3",
   "version": "3.6.8"
  },
  "widgets": {
   "state": {},
   "version": "1.1.2"
  }
 },
 "nbformat": 4,
 "nbformat_minor": 2
}
