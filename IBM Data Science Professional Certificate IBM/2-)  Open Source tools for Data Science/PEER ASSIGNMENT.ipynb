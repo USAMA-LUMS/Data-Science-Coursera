{
 "cells": [
  {
   "cell_type": "markdown",
   "metadata": {
    "collapsed": true
   },
   "source": [
    "# My Jupyter Notebook on IBM Data Science Experience"
   ]
  },
  {
   "cell_type": "markdown",
   "metadata": {},
   "source": [
    "**Muhammmad Usama Saleem**\n",
    "<br>Data Scientist</br>"
   ]
  },
  {
   "cell_type": "markdown",
   "metadata": {},
   "source": [
    " *I am interested in data science because I love telling stories with data and using data to help bring that data to life. As a data scientist I can turn seemingly meaningless data into a recommendation to help a company improve its product, services, or experiences. This can help a business grow or get more clients.\n",
    "I am a technophile. I love using the latest and greatest technology. Whether that is hardware or software, I enjoy getting my hands on with these new technologies to see how that can enrich our lives.*"
   ]
  },
  {
   "cell_type": "markdown",
   "metadata": {},
   "source": [
    "### Calculating the factorial of input number"
   ]
  },
  {
   "cell_type": "code",
   "execution_count": 12,
   "metadata": {},
   "outputs": [
    {
     "name": "stdout",
     "output_type": "stream",
     "text": [
      "21\n",
      "The factorial of 21 is 51090942171709440000\n"
     ]
    }
   ],
   "source": [
    "#Input the number\n",
    "num = input()\n",
    "num=int(num)\n",
    "factorial = 1\n",
    "\n",
    "# check if the number is negative, positive or zero\n",
    "if num < 0:\n",
    "   print(\"Sorry, factorial does not exist for negative numbers\")\n",
    "elif num == 0:\n",
    "   print(\"The factorial of 0 is 1\")\n",
    "else:\n",
    "   for i in range(1,num + 1):\n",
    "       factorial = factorial*i\n",
    "   print(\"The factorial of\",num,\"is\",factorial)"
   ]
  },
  {
   "cell_type": "markdown",
   "metadata": {},
   "source": [
    "\n",
    "###  Horizontal Rule\n",
    "\n",
    "Telling Stories of data.\n",
    "***\n",
    "Love to play code.\n",
    "***\n",
    "Play with mathematics.\n",
    "___\n",
    "Judging the data.\n",
    "\n",
    "### Bulleted List\n",
    "\n",
    "* Curiousity\n",
    "+ Knowledge\n",
    "- Dedicating\n",
    "\n",
    "\n",
    "### Table House Size vs Price\n",
    "|  Serial#   |Size (sq-mtr)    |  Price($)         |\n",
    "|-----------:|:---------------:|------------------:|\n",
    "|1           |1000             |1450               |\n",
    "|2           |2000             |2700               |\n",
    "|3           |3000             |3500               |\n",
    "|4           |4000             |4000               |\n",
    "|5           |5000             |5000               |\n",
    "|6           |6000             |5400               |\n",
    "\n",
    "### Data Science Specialization Courses\n",
    "\n",
    "<ol>\n",
    "<li>\n",
    "What is Data Science?</li>\n",
    "<li>\n",
    "Open Source tools for Data Science</li>\n",
    "<li>\n",
    "Data Science Methodology</li>\n",
    "<li>\n",
    "Python for Data Science</li>\n",
    "<li>\n",
    "Databases and SQL for Data Science</li>\n",
    "<li>\n",
    "Data Analysis with Python</li>\n",
    "<li>\n",
    "Data Visualization with Python</li>\n",
    "<li>\n",
    "Machine Learning with Python</li>\n",
    "<li> \n",
    "Applied Data Science Capstone</li>\n",
    "</ol>\n",
    "\n",
    "### Blocked Quotes\n",
    "\n",
    "> “Without big data analytics, companies are blind and deaf, wandering out onto the web like deer on a freeway.”  - Geoffrey Moore\n",
    "\n",
    "### Code/Syntax Highlighting with back ticks\n",
    "```\n",
    "import random\n",
    "Set_Population =10\n",
    "Total_Chromosome_Elite =1\n",
    "T_Chromosome = [1,1,1,1,1,0,0,0,0,0]\n",
    "Mutation=0.25\n",
    "Total_Tournament=4\n",
    "```\n",
    "### Code/Syntax Highlighting with indentation\n",
    "\n",
    "    function fancyAlert(arg) {\n",
    "      if(arg) {\n",
    "        $.facebox({div:'#foo'})\n",
    "      }\n",
    "    }\n",
    "\n",
    "### StrikeThrough\n",
    "\n",
    "~~This machine is not in use more~~\n",
    "~~This website is not working~~\n",
    "~~This data is unclean~~\n",
    "### Hyperlink\n",
    "\n",
    "<br> <a href=\"https://www.coursera.org/learn/open-source-tools-for-data-science/home/welcome\">Welcome to Open Source Tool for Data Science Course </a></br>\n",
    "\n",
    "[ Enroll Now](https://www.coursera.org/learn/open-source-tools-for-data-science?action=enroll&authMode=signup)\n",
    "<br></br>\n",
    "[Financial Aid Available](https://www.coursera.org/learn/open-source-tools-for-data-science?action=enroll&authMode=login)\n"
   ]
  },
  {
   "cell_type": "code",
   "execution_count": null,
   "metadata": {},
   "outputs": [],
   "source": []
  }
 ],
 "metadata": {
  "kernelspec": {
   "display_name": "Python 3.5",
   "language": "python",
   "name": "python3"
  },
  "language_info": {
   "codemirror_mode": {
    "name": "ipython",
    "version": 3
   },
   "file_extension": ".py",
   "mimetype": "text/x-python",
   "name": "python",
   "nbconvert_exporter": "python",
   "pygments_lexer": "ipython3",
   "version": "3.5.5"
  }
 },
 "nbformat": 4,
 "nbformat_minor": 1
}
